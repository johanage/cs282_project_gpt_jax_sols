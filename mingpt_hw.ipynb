{
  "cells": [
    {
      "cell_type": "code",
      "execution_count": 1,
      "metadata": {
        "id": "thfFhBzfWZsm",
        "outputId": "8efb9f40-f031-4e3c-d4a0-1ca606d7a769",
        "colab": {
          "base_uri": "https://localhost:8080/"
        }
      },
      "outputs": [
        {
          "output_type": "stream",
          "name": "stdout",
          "text": [
            "Mounted at /content/gdrive\n"
          ]
        }
      ],
      "source": [
        "#@title Mount your Google Drive\n",
        "\n",
        "import os\n",
        "from google.colab import drive\n",
        "drive.mount('/content/gdrive')"
      ]
    },
    {
      "cell_type": "code",
      "execution_count": 2,
      "metadata": {
        "id": "PrM-U3uvWZsq"
      },
      "outputs": [],
      "source": [
        "#@title Set up mount symlink\n",
        "\n",
        "DRIVE_PATH = '/content/gdrive/My\\ Drive/cs182-minGPT_sp23'\n",
        "DRIVE_PYTHON_PATH = DRIVE_PATH.replace('\\\\', '')\n",
        "if not os.path.exists(DRIVE_PYTHON_PATH):\n",
        "  %mkdir $DRIVE_PATH\n",
        "\n",
        "## the space in `My Drive` causes some issues,\n",
        "## make a symlink to avoid this\n",
        "SYM_PATH = '/content/cs182-minGPT'\n",
        "if not os.path.exists(SYM_PATH):\n",
        "  !ln -s $DRIVE_PATH $SYM_PATH"
      ]
    },
    {
      "cell_type": "code",
      "execution_count": 3,
      "metadata": {
        "id": "h6vePJj8WZsu",
        "outputId": "4ec028ed-a669-45b4-eebb-de1080da4884",
        "colab": {
          "base_uri": "https://localhost:8080/"
        }
      },
      "outputs": [
        {
          "output_type": "stream",
          "name": "stdout",
          "text": [
            "/content/gdrive/My Drive/cs182-minGPT_sp23\n",
            "fatal: destination path 'cs282_project_gpt_jax-homework' already exists and is not an empty directory.\n",
            "[Errno 2] No such file or directory: 'cs182-minGPT'\n",
            "/content/gdrive/My Drive/cs182-minGPT_sp23\n",
            "/content/gdrive/My Drive/cs182-minGPT_sp23/cs282_project_gpt_jax-homework\n"
          ]
        }
      ],
      "source": [
        "#@title Clone homework repo\n",
        "\n",
        "%cd $SYM_PATH\n",
        "if not os.path.exists(\"cs182-minGPT\"):\n",
        "  !git clone https://github.com/avikam-chauhan/cs282_project_gpt_jax-homework\n",
        "%cd cs182-minGPT\n",
        "%cd cs282_project_gpt_jax-homework"
      ]
    },
    {
      "cell_type": "markdown",
      "metadata": {
        "pycharm": {
          "name": "#%% md\n"
        },
        "id": "-yfJhU32WZsw"
      },
      "source": [
        "# Introduction to Coding in jax and flax\n",
        "In this homework, we will be exploring the world of [Flax](http://flax.readthedocs.io/) and [Jax](https://github.com/google/jax), two powerful deep learning libraries made by Google that can be used to reimplement the PyTorch version of minGPT. Jax and Flax are both built on the concept of functional programming and provide a high-level interface for building and training neural networks, which can simplify the development process and reduce the amount of boilerplate code that needs to be written. Flax and Jax are designed to take advantage of modern hardware architectures such as GPUs and TPUs, which can significantly speed up the training process and reduce the time-to-deployment for new models.\n",
        "<br/> By using these libraries, you will gain a deeper understanding of the underlying principles of neural networks and develop your skills in functional programming. You will also have the opportunity to compare and contrast the PyTorch and Flax/Jax versions of minGPT, gaining valuable insights into the similarities and differences between these powerful tools. So let's roll up our sleeves and dive into the world of Flax and Jax!"
      ]
    },
    {
      "cell_type": "markdown",
      "metadata": {
        "id": "YIOIhYaxWZs0"
      },
      "source": [
        "\n",
        "Before we start implementing the GPT architecture the libraries `jax` [(Jax Docs)](https://jax.readthedocs.io/en/latest/index.html) and `flax` [(Flax Docs)](https://flax.readthedocs.io/en/latest/) should be introduced as they have some key differences from pytorch functionalities. These differences are explained in detail [here](https://jax.readthedocs.io/en/latest/notebooks/Common_Gotchas_in_JAX.html#%F0%9F%94%AA-Random-Numbers). "
      ]
    },
    {
      "cell_type": "markdown",
      "metadata": {
        "id": "G8KRfBjCWZs2"
      },
      "source": [
        "#### Before you start coding, make sure you turn on GPU runtime. You can do this by going to Runtime -> Change Runtime Type -> Hardware Accelerator -> GPU"
      ]
    },
    {
      "cell_type": "markdown",
      "metadata": {
        "collapsed": false,
        "pycharm": {
          "name": "#%% md\n"
        },
        "id": "03nUVVo9WZs5"
      },
      "source": [
        "## Jax introduction"
      ]
    },
    {
      "cell_type": "markdown",
      "metadata": {
        "collapsed": false,
        "pycharm": {
          "name": "#%% md\n"
        },
        "id": "-WZjaaWsWZs6"
      },
      "source": [
        "First let us start with `jax`. In practice `jax` works almost exactly as `numpy` but use own datatypes which is more convenient in the context of high-performance numerical computing (HPC). Experience with such libraries is crucial as modern ML applications require resources that is beoynd the capabilities of a personal computer. Furthermore, `jax` supports automatic differentiation in both forward- and reverse-mode as well as accelerated linear algebra ([XLA](https://www.tensorflow.org/xla) - domain-specific compiler) .\n",
        "\n",
        "### Random Number Generation\n",
        "\n",
        "The first difference between `jax` and `numpy` we are going to highlight is ***how you generate random numbers***. In the code block below we demonstrate how you generate a random vector $x, x\\in\\mathbb{R}^{10}, x_i \\sim \\mathcal{N}(0,1)$. You can read more about the PRNG design [here](https://github.com/google/jax/blob/main/docs/jep/263-prng.md). A major advantage of this design is **reproducible program execution in a backend-independent way**. This is of major imortance for validating new discoveries within ML research as a many components (weight and bias initialization, dropout, masking, etc.) depend on PRNGs."
      ]
    },
    {
      "cell_type": "code",
      "execution_count": 4,
      "metadata": {
        "pycharm": {
          "name": "#%%\n"
        },
        "id": "ftydX3ubWZs8",
        "outputId": "14ffd9c9-5155-4cb9-f470-2781667c13be",
        "colab": {
          "base_uri": "https://localhost:8080/"
        }
      },
      "outputs": [
        {
          "output_type": "execute_result",
          "data": {
            "text/plain": [
              "Array([ 0.690805  , -0.48744103, -1.155789  ,  0.12108463, -0.19598432,\n",
              "       -0.5078766 ,  0.91568655,  1.70968   , -0.36749417,  0.14315689],      dtype=float32)"
            ]
          },
          "metadata": {},
          "execution_count": 4
        }
      ],
      "source": [
        "from jax import random\n",
        "size = (10,)\n",
        "key = random.PRNGKey(1)\n",
        "# generate random vector with std normal distributed elements\n",
        "x = random.normal(key, size)\n",
        "x\n",
        "# alternatively use a mu sigma^2 normal distributed vector\n",
        "# x = mu + sigma2*random.normal(key,size)"
      ]
    },
    {
      "cell_type": "markdown",
      "metadata": {
        "collapsed": false,
        "pycharm": {
          "name": "#%% md\n"
        },
        "id": "5-DeXMmeWZs_"
      },
      "source": [
        "To prevent generating random numbers from the same state represented by the variable `key`, the PRNG is split to get usable subkeys every time a new pseudorandom number is needed."
      ]
    },
    {
      "cell_type": "code",
      "execution_count": null,
      "metadata": {
        "pycharm": {
          "name": "#%%\n"
        },
        "id": "HTvLUtJ4WZtA",
        "outputId": "33e87362-8176-445c-c4fb-ffff2da51d59",
        "colab": {
          "base_uri": "https://localhost:8080/"
        }
      },
      "outputs": [
        {
          "output_type": "stream",
          "name": "stdout",
          "text": [
            "old key [0 1]\n",
            "    \\---SPLIT --> new key    [2441914641 1384938218]\n",
            "             \\--> new subkey [3819641963 2025898573] --> normal [-1.1470195]\n"
          ]
        }
      ],
      "source": [
        "# copied from hax common gotchas\n",
        "print(\"old key\", key)\n",
        "key, subkey = random.split(key)\n",
        "normal_pseudorandom = random.normal(subkey, shape=(1,))\n",
        "print(\"    \\---SPLIT --> new key   \", key)\n",
        "print(\"             \\--> new subkey\", subkey, \"--> normal\", normal_pseudorandom)"
      ]
    },
    {
      "cell_type": "markdown",
      "metadata": {
        "collapsed": false,
        "pycharm": {
          "name": "#%% md\n"
        },
        "id": "GQWDFJyfWZtD"
      },
      "source": [
        "### Pure functions\n",
        "\n",
        "`jax` is a language of expressing and composing transformations of numerical programs and compile these programs for both CPU and accelerators (GPU/TPU). Compiling across devices requires that the code is written with certain constraints. One of the constraings is that the transformations and compilations are designed to only work on ***pure functions*** [pure functions link](https://en.wikipedia.org/wiki/Pure_function). This means that all the input data is passed through the function parameters, all the results are output throught hte functions results. Consequently, a pure function will always give the same output for the same input. In the below code block we have provided some examples of impure functions."
      ]
    },
    {
      "cell_type": "code",
      "execution_count": 9,
      "metadata": {
        "pycharm": {
          "name": "#%%\n"
        },
        "id": "7RpNc3-lWZtE",
        "outputId": "5ce5477b-1271-4c30-f3e8-79edf10bb36f",
        "colab": {
          "base_uri": "https://localhost:8080/"
        }
      },
      "outputs": [
        {
          "output_type": "stream",
          "name": "stdout",
          "text": [
            "2\n",
            "3\n",
            "[11.]\n"
          ]
        }
      ],
      "source": [
        "from jax import jit\n",
        "import jax.numpy as jnp\n",
        "# using global\n",
        "global_var = 1\n",
        "def impure_input_is_output(x):\n",
        "    return x + global_var\n",
        "# uses initial assignment of the global variable\n",
        "print(jit(impure_input_is_output)(1))\n",
        "global_var = 10.\n",
        "# subsequent runs may cached value of the previous print\n",
        "print(jit(impure_input_is_output)(2))\n",
        "# when the type is changed the las update of the global variable is used\n",
        "print(jit(impure_input_is_output)(jnp.array([1]) ) )\n",
        "\n",
        "############\n",
        "# Add more #\n",
        "# examples #\n",
        "############"
      ]
    },
    {
      "cell_type": "markdown",
      "metadata": {
        "collapsed": false,
        "pycharm": {
          "name": "#%% md\n"
        },
        "id": "ORDxxsE0WZtG"
      },
      "source": [
        "### In-place updates\n",
        "\n",
        "Another important difference to `numpy` is how in-place update are done. `jax` offers a functional array update using the `.at` property. This difference is examplified in the code block below."
      ]
    },
    {
      "cell_type": "code",
      "execution_count": 15,
      "metadata": {
        "pycharm": {
          "name": "#%%\n"
        },
        "id": "rypB84IEWZtG",
        "outputId": "56576914-7723-4ab5-a5b5-a8e0e84ddc95",
        "colab": {
          "base_uri": "https://localhost:8080/",
          "height": 473
        }
      },
      "outputs": [
        {
          "output_type": "stream",
          "name": "stdout",
          "text": [
            "[[0. 0. 0.]\n",
            " [0. 0. 0.]\n",
            " [0. 0. 0.]]\n",
            "[[0. 0. 0.]\n",
            " [1. 1. 1.]\n",
            " [0. 0. 0.]]\n"
          ]
        },
        {
          "output_type": "error",
          "ename": "TypeError",
          "evalue": "ignored",
          "traceback": [
            "\u001b[0;31m---------------------------------------------------------------------------\u001b[0m",
            "\u001b[0;31mTypeError\u001b[0m                                 Traceback (most recent call last)",
            "\u001b[0;32m<ipython-input-15-cd5706c58d36>\u001b[0m in \u001b[0;36m<cell line: 16>\u001b[0;34m()\u001b[0m\n\u001b[1;32m     14\u001b[0m \u001b[0;31m#jnp_arr = jnp.zeros((3,3), dtype = jnp.float64)\u001b[0m\u001b[0;34m\u001b[0m\u001b[0;34m\u001b[0m\u001b[0m\n\u001b[1;32m     15\u001b[0m \u001b[0mjnp_arr\u001b[0m \u001b[0;34m=\u001b[0m \u001b[0mjnp\u001b[0m\u001b[0;34m.\u001b[0m\u001b[0mzeros\u001b[0m\u001b[0;34m(\u001b[0m\u001b[0;34m(\u001b[0m\u001b[0;36m3\u001b[0m\u001b[0;34m,\u001b[0m\u001b[0;36m3\u001b[0m\u001b[0;34m)\u001b[0m\u001b[0;34m,\u001b[0m \u001b[0mdtype\u001b[0m \u001b[0;34m=\u001b[0m \u001b[0mjnp\u001b[0m\u001b[0;34m.\u001b[0m\u001b[0mfloat32\u001b[0m\u001b[0;34m)\u001b[0m\u001b[0;34m\u001b[0m\u001b[0;34m\u001b[0m\u001b[0m\n\u001b[0;32m---> 16\u001b[0;31m \u001b[0mjnp_arr\u001b[0m\u001b[0;34m[\u001b[0m\u001b[0;36m1\u001b[0m\u001b[0;34m,\u001b[0m\u001b[0;34m:\u001b[0m\u001b[0;34m]\u001b[0m \u001b[0;34m=\u001b[0m \u001b[0;36m1\u001b[0m\u001b[0;34m\u001b[0m\u001b[0;34m\u001b[0m\u001b[0m\n\u001b[0m",
            "\u001b[0;32m/usr/local/lib/python3.10/dist-packages/jax/_src/numpy/array_methods.py\u001b[0m in \u001b[0;36m_unimplemented_setitem\u001b[0;34m(self, i, x)\u001b[0m\n\u001b[1;32m    261\u001b[0m          \u001b[0;34m\"or another .at[] method: \"\u001b[0m\u001b[0;34m\u001b[0m\u001b[0;34m\u001b[0m\u001b[0m\n\u001b[1;32m    262\u001b[0m          \"https://jax.readthedocs.io/en/latest/_autosummary/jax.numpy.ndarray.at.html\")\n\u001b[0;32m--> 263\u001b[0;31m   \u001b[0;32mraise\u001b[0m \u001b[0mTypeError\u001b[0m\u001b[0;34m(\u001b[0m\u001b[0mmsg\u001b[0m\u001b[0;34m.\u001b[0m\u001b[0mformat\u001b[0m\u001b[0;34m(\u001b[0m\u001b[0mtype\u001b[0m\u001b[0;34m(\u001b[0m\u001b[0mself\u001b[0m\u001b[0;34m)\u001b[0m\u001b[0;34m)\u001b[0m\u001b[0;34m)\u001b[0m\u001b[0;34m\u001b[0m\u001b[0;34m\u001b[0m\u001b[0m\n\u001b[0m\u001b[1;32m    264\u001b[0m \u001b[0;34m\u001b[0m\u001b[0m\n\u001b[1;32m    265\u001b[0m \u001b[0;32mdef\u001b[0m \u001b[0m_operator_round\u001b[0m\u001b[0;34m(\u001b[0m\u001b[0mnumber\u001b[0m\u001b[0;34m:\u001b[0m \u001b[0mArrayLike\u001b[0m\u001b[0;34m,\u001b[0m \u001b[0mndigits\u001b[0m\u001b[0;34m:\u001b[0m \u001b[0mOptional\u001b[0m\u001b[0;34m[\u001b[0m\u001b[0mint\u001b[0m\u001b[0;34m]\u001b[0m \u001b[0;34m=\u001b[0m \u001b[0;32mNone\u001b[0m\u001b[0;34m)\u001b[0m \u001b[0;34m->\u001b[0m \u001b[0mArray\u001b[0m\u001b[0;34m:\u001b[0m\u001b[0;34m\u001b[0m\u001b[0;34m\u001b[0m\u001b[0m\n",
            "\u001b[0;31mTypeError\u001b[0m: '<class 'jaxlib.xla_extension.ArrayImpl'>' object does not support item assignment. JAX arrays are immutable. Instead of ``x[idx] = y``, use ``x = x.at[idx].set(y)`` or another .at[] method: https://jax.readthedocs.io/en/latest/_autosummary/jax.numpy.ndarray.at.html"
          ]
        }
      ],
      "source": [
        "import numpy as np\n",
        "import jax.numpy as jnp\n",
        "\n",
        "#### Numpy #####\n",
        "np_arr = np.zeros((3,3), dtype=np.float64)\n",
        "print(np_arr)\n",
        "# in place, mutating update\n",
        "np_arr[1,:] = 1\n",
        "print(np_arr)\n",
        "\n",
        "#### Jax #####\n",
        "# not that float 64 is not available, try by running the\n",
        "# commented-out line below\n",
        "#jnp_arr = jnp.zeros((3,3), dtype = jnp.float64)\n",
        "jnp_arr = jnp.zeros((3,3), dtype = jnp.float32)\n",
        "jnp_arr[1,:] = 1"
      ]
    },
    {
      "cell_type": "code",
      "execution_count": null,
      "metadata": {
        "pycharm": {
          "name": "#%%\n"
        },
        "id": "hHJ89du_WZtH"
      },
      "outputs": [],
      "source": [
        "#### correct jax in-place update ####\n",
        "jnp_arr.at[1,:].add(1)"
      ]
    },
    {
      "cell_type": "markdown",
      "metadata": {
        "collapsed": false,
        "pycharm": {
          "name": "#%% md\n"
        },
        "id": "eYn46IZsWZtI"
      },
      "source": [
        "### Permissive inputs\n",
        "\n",
        "`jax` requires premissive inputs. While `numpy` accepts lists or tuples as inputs, `jax` do not."
      ]
    },
    {
      "cell_type": "code",
      "execution_count": null,
      "metadata": {
        "pycharm": {
          "name": "#%%\n"
        },
        "id": "Mzj4uZ6cWZtJ"
      },
      "outputs": [],
      "source": [
        "print(np.sum([1,1,1]))\n",
        "jnp.sum([1,1,1])"
      ]
    },
    {
      "cell_type": "code",
      "execution_count": null,
      "metadata": {
        "pycharm": {
          "name": "#%%\n"
        },
        "id": "oHJKjTvcWZtJ"
      },
      "outputs": [],
      "source": [
        "# first convert to jnp array and then sum\n",
        "print(jnp.sum(jnp.array([1,1,1])))"
      ]
    },
    {
      "cell_type": "markdown",
      "metadata": {
        "collapsed": false,
        "pycharm": {
          "name": "#%% md\n"
        },
        "id": "MP_cckSvWZtK"
      },
      "source": [
        "### Out-of-bounds indexing\n",
        "For out-of-bound indexing `numpy` provides an error clearly explaining the error. In `jax` this is not so simple as raising an error from an accelerator (GPU/TPU) might be impossible or very difficult. Therefore, updates out-of-bounds will be skipped and the values will be filled with some value (in some cases the last value of the array but the behaviour is undefined) or some user-defined fill value using `.at[index].get(mode='fill', fill_value=fill_value')`. **Note** that when doing reverse mode automatic differentiation which turns index updates into index retrievals and vice versa will not preserve the semantics of out of bounds indexing. Therefore, out-of-bounds indexing should be thought of as undefined behaviour in `jax`."
      ]
    },
    {
      "cell_type": "code",
      "execution_count": null,
      "metadata": {
        "pycharm": {
          "name": "#%%\n"
        },
        "id": "P0oYD9HHWZtK"
      },
      "outputs": [],
      "source": [
        "np.arange(10)[10]"
      ]
    },
    {
      "cell_type": "code",
      "execution_count": null,
      "metadata": {
        "pycharm": {
          "name": "#%%\n"
        },
        "id": "f27lT5R4WZtK"
      },
      "outputs": [],
      "source": [
        "print(\"Simple indexing: \", jnp.arange(10)[10])\n",
        "print(\"Using the ndarray at: \", jnp.arange(10).at[11].get())\n",
        "print(\"Using the ndarray at and fill values out-of-bounds with nan's: \",jnp.arange(10.0).at[11].get(mode='fill', fill_value=jnp.nan))"
      ]
    },
    {
      "cell_type": "markdown",
      "metadata": {
        "collapsed": false,
        "pycharm": {
          "name": "#%% md\n"
        },
        "id": "PIwyu1N-WZtL"
      },
      "source": [
        "## Flax introduction"
      ]
    },
    {
      "cell_type": "markdown",
      "metadata": {
        "collapsed": false,
        "pycharm": {
          "name": "#%% md\n"
        },
        "id": "a5qNMpleWZtL"
      },
      "source": [
        "### Model parameters and initialization\n",
        "Parameters are not stored with the models themselves. You need to initialize parameters by calling the `init` function, using a PRNGKey and dummy input data. The parameter will have the shape of a nested dictionary whose leaves are `jax.numpy.array`'s."
      ]
    },
    {
      "cell_type": "code",
      "execution_count": 5,
      "metadata": {
        "pycharm": {
          "name": "#%%\n"
        },
        "id": "HnXrgLw9WZtM",
        "outputId": "37a1e24a-ec55-4d6c-c6ba-bbb3919139ea",
        "colab": {
          "base_uri": "https://localhost:8080/"
        }
      },
      "outputs": [
        {
          "output_type": "execute_result",
          "data": {
            "text/plain": [
              "Array([[-5.444744 ,  1.8421361, -3.9907808,  7.4054146],\n",
              "       [-3.2136657,  0.9437195,  0.7808636,  6.9177117],\n",
              "       [ 0.7469003, -0.9826737,  6.9361224,  7.9343   ],\n",
              "       [-0.3477633, -1.3661789,  1.723776 ,  6.7379627]], dtype=float32)"
            ]
          },
          "metadata": {},
          "execution_count": 5
        }
      ],
      "source": [
        "import flax.linen as nn\n",
        "import jax\n",
        "model = nn.Dense(features = 4)\n",
        "key1, key2 = random.split(random.PRNGKey(1), 2)\n",
        "minval, maxval = 0,10\n",
        "# generate a randomly initialized input\n",
        "x = random.randint(key1, (4, 10), minval, maxval)\n",
        "# initialiaze the parameters\n",
        "params = model.init({'params' : key2}, x)\n",
        "# Checking output shapes\n",
        "jax.tree_util.tree_map(lambda x: x.shape, params) \n",
        "# apply the model on the input data\n",
        "y = model.apply(params, x)\n",
        "y"
      ]
    },
    {
      "cell_type": "markdown",
      "metadata": {
        "collapsed": false,
        "pycharm": {
          "name": "#%% md\n"
        },
        "id": "h8p1J2A2WZtM"
      },
      "source": [
        "### Note the following about the above code block\n",
        "- the RNG has to be passed in the `model.init` function as the first argument if you are not explicitly using keyword and then the the input data\n",
        "- when applying the model on the input data additional RNGs as to be passed as a dictionary using the keyword `rngs = {'prng_name' : prng_key}` where the name is the same as you used when initializing the parameters\n",
        "- all the RNGs that is going to be used in the model has to be initialized in the `model.init`-function\n",
        "\n",
        "### Setting the parameters manually\n",
        "1. flatten the parameter dictionary\n",
        "2. edit the flattened parameters by setting new values to keys given by the flattened parameter dictionary\n",
        "3. unflatten the parameters\n",
        "4. freeze the parameters\n",
        "5. now the paremeters can be applied to the same model with different values.\n",
        "\n",
        "**Note** in the fully connected layers of the MLP the dimensions are flipped due to an implementation choice in `jax`, advice [here](https://flax.readthedocs.io/en/latest/advanced_topics/convert_pytorch_to_flax.html)."
      ]
    },
    {
      "cell_type": "code",
      "execution_count": null,
      "metadata": {
        "pycharm": {
          "name": "#%%\n"
        },
        "id": "DoZfSRduWZtM"
      },
      "outputs": [],
      "source": [
        "from flax import traverse_util\n",
        "from flax.core import freeze\n",
        "# Get a flattened key-value list.\n",
        "flat_params = traverse_util.flatten_dict(params, sep='/')\n",
        "print(\"Flattened parameter tree: \\n\", jax.tree_util.tree_map(jnp.shape, flat_params) )\n",
        "# edit the parameters\n",
        "print('Before bias is assigned values : ', flat_params['params/bias'])\n",
        "flat_params['params/bias'] = jnp.ones(flat_params['params/bias'].shape)\n",
        "print('After bias is assigned values : ', flat_params['params/bias'])\n",
        "\n",
        "# Unflatten.\n",
        "unflat_params = traverse_util.unflatten_dict(flat_params, sep='/')\n",
        "# Refreeze.\n",
        "unflat_params = freeze(unflat_params)\n",
        "jax.tree_util.tree_map(jnp.shape, unflat_params)\n",
        "# apply to model\n",
        "y_new = model.apply(unflat_params, x)\n",
        "y_new"
      ]
    },
    {
      "cell_type": "code",
      "execution_count": null,
      "metadata": {
        "pycharm": {
          "name": "#%%\n"
        },
        "id": "exYLTsMkWZtN"
      },
      "outputs": [],
      "source": [
        "# note that the new output is different from the old\n",
        "print(\"old - new output: \", y - y_new)\n",
        "\n",
        "# and that we still can apply the previous params to get the same result\n",
        "print(\"old - model applied on same old parameters : \", y - model.apply(params, x))"
      ]
    },
    {
      "cell_type": "markdown",
      "metadata": {
        "pycharm": {
          "name": "#%% md\n"
        },
        "id": "bBDnJ183WZtN"
      },
      "source": [
        "# Train a character-level GPT on some text data\n",
        "Now that we have introduced `flax` and `jax`, let's move to the main part of this homework, using minGPT on some text data for autocompletion!"
      ]
    },
    {
      "cell_type": "code",
      "execution_count": 6,
      "metadata": {
        "pycharm": {
          "name": "#%%\n"
        },
        "id": "Eu-WDjZPWZtO",
        "outputId": "eb28a7ae-efde-47f0-fb30-c12ece51bd82",
        "colab": {
          "base_uri": "https://localhost:8080/"
        }
      },
      "outputs": [
        {
          "output_type": "stream",
          "name": "stdout",
          "text": [
            "Looking in indexes: https://pypi.org/simple, https://us-python.pkg.dev/colab-wheels/public/simple/\n",
            "Requirement already satisfied: numpy in /usr/local/lib/python3.10/dist-packages (from -r requirements.txt (line 1)) (1.22.4)\n",
            "Requirement already satisfied: jax in /usr/local/lib/python3.10/dist-packages (from -r requirements.txt (line 2)) (0.4.8)\n",
            "Requirement already satisfied: jaxlib in /usr/local/lib/python3.10/dist-packages (from -r requirements.txt (line 3)) (0.4.7+cuda11.cudnn86)\n",
            "Requirement already satisfied: flax in /usr/local/lib/python3.10/dist-packages (from -r requirements.txt (line 4)) (0.6.9)\n",
            "Requirement already satisfied: optax in /usr/local/lib/python3.10/dist-packages (from -r requirements.txt (line 5)) (0.1.5)\n",
            "Collecting dm-haiku (from -r requirements.txt (line 6))\n",
            "  Downloading dm_haiku-0.0.9-py3-none-any.whl (352 kB)\n",
            "\u001b[2K     \u001b[90m━━━━━━━━━━━━━━━━━━━━━━━━━━━━━━━━━━━━━━\u001b[0m \u001b[32m352.1/352.1 kB\u001b[0m \u001b[31m17.3 MB/s\u001b[0m eta \u001b[36m0:00:00\u001b[0m\n",
            "\u001b[?25hRequirement already satisfied: torch in /usr/local/lib/python3.10/dist-packages (from -r requirements.txt (line 7)) (2.0.0+cu118)\n",
            "Collecting clu (from -r requirements.txt (line 8))\n",
            "  Downloading clu-0.0.9-py3-none-any.whl (98 kB)\n",
            "\u001b[2K     \u001b[90m━━━━━━━━━━━━━━━━━━━━━━━━━━━━━━━━━━━━━━━━\u001b[0m \u001b[32m98.2/98.2 kB\u001b[0m \u001b[31m15.1 MB/s\u001b[0m eta \u001b[36m0:00:00\u001b[0m\n",
            "\u001b[?25hRequirement already satisfied: tqdm in /usr/local/lib/python3.10/dist-packages (from -r requirements.txt (line 9)) (4.65.0)\n",
            "Requirement already satisfied: matplotlib in /usr/local/lib/python3.10/dist-packages (from -r requirements.txt (line 10)) (3.7.1)\n",
            "Collecting jupyter (from -r requirements.txt (line 11))\n",
            "  Downloading jupyter-1.0.0-py2.py3-none-any.whl (2.7 kB)\n",
            "Requirement already satisfied: ml-dtypes>=0.0.3 in /usr/local/lib/python3.10/dist-packages (from jax->-r requirements.txt (line 2)) (0.1.0)\n",
            "Requirement already satisfied: opt-einsum in /usr/local/lib/python3.10/dist-packages (from jax->-r requirements.txt (line 2)) (3.3.0)\n",
            "Requirement already satisfied: scipy>=1.7 in /usr/local/lib/python3.10/dist-packages (from jax->-r requirements.txt (line 2)) (1.10.1)\n",
            "Requirement already satisfied: msgpack in /usr/local/lib/python3.10/dist-packages (from flax->-r requirements.txt (line 4)) (1.0.5)\n",
            "Requirement already satisfied: orbax-checkpoint in /usr/local/lib/python3.10/dist-packages (from flax->-r requirements.txt (line 4)) (0.2.1)\n",
            "Requirement already satisfied: tensorstore in /usr/local/lib/python3.10/dist-packages (from flax->-r requirements.txt (line 4)) (0.1.36)\n",
            "Requirement already satisfied: rich>=11.1 in /usr/local/lib/python3.10/dist-packages (from flax->-r requirements.txt (line 4)) (13.3.4)\n",
            "Requirement already satisfied: typing-extensions>=4.1.1 in /usr/local/lib/python3.10/dist-packages (from flax->-r requirements.txt (line 4)) (4.5.0)\n",
            "Requirement already satisfied: PyYAML>=5.4.1 in /usr/local/lib/python3.10/dist-packages (from flax->-r requirements.txt (line 4)) (6.0)\n",
            "Requirement already satisfied: absl-py>=0.7.1 in /usr/local/lib/python3.10/dist-packages (from optax->-r requirements.txt (line 5)) (1.4.0)\n",
            "Requirement already satisfied: chex>=0.1.5 in /usr/local/lib/python3.10/dist-packages (from optax->-r requirements.txt (line 5)) (0.1.7)\n",
            "Collecting jmp>=0.0.2 (from dm-haiku->-r requirements.txt (line 6))\n",
            "  Downloading jmp-0.0.4-py3-none-any.whl (18 kB)\n",
            "Requirement already satisfied: tabulate>=0.8.9 in /usr/local/lib/python3.10/dist-packages (from dm-haiku->-r requirements.txt (line 6)) (0.8.10)\n",
            "Requirement already satisfied: filelock in /usr/local/lib/python3.10/dist-packages (from torch->-r requirements.txt (line 7)) (3.12.0)\n",
            "Requirement already satisfied: sympy in /usr/local/lib/python3.10/dist-packages (from torch->-r requirements.txt (line 7)) (1.11.1)\n",
            "Requirement already satisfied: networkx in /usr/local/lib/python3.10/dist-packages (from torch->-r requirements.txt (line 7)) (3.1)\n",
            "Requirement already satisfied: jinja2 in /usr/local/lib/python3.10/dist-packages (from torch->-r requirements.txt (line 7)) (3.1.2)\n",
            "Requirement already satisfied: triton==2.0.0 in /usr/local/lib/python3.10/dist-packages (from torch->-r requirements.txt (line 7)) (2.0.0)\n",
            "Requirement already satisfied: cmake in /usr/local/lib/python3.10/dist-packages (from triton==2.0.0->torch->-r requirements.txt (line 7)) (3.25.2)\n",
            "Requirement already satisfied: lit in /usr/local/lib/python3.10/dist-packages (from triton==2.0.0->torch->-r requirements.txt (line 7)) (16.0.2)\n",
            "Requirement already satisfied: etils[epath] in /usr/local/lib/python3.10/dist-packages (from clu->-r requirements.txt (line 8)) (1.2.0)\n",
            "Collecting ml-collections (from clu->-r requirements.txt (line 8))\n",
            "  Downloading ml_collections-0.1.1.tar.gz (77 kB)\n",
            "\u001b[2K     \u001b[90m━━━━━━━━━━━━━━━━━━━━━━━━━━━━━━━━━━━━━━━━\u001b[0m \u001b[32m77.9/77.9 kB\u001b[0m \u001b[31m11.7 MB/s\u001b[0m eta \u001b[36m0:00:00\u001b[0m\n",
            "\u001b[?25h  Preparing metadata (setup.py) ... \u001b[?25l\u001b[?25hdone\n",
            "Requirement already satisfied: packaging in /usr/local/lib/python3.10/dist-packages (from clu->-r requirements.txt (line 8)) (23.1)\n",
            "Requirement already satisfied: wrapt in /usr/local/lib/python3.10/dist-packages (from clu->-r requirements.txt (line 8)) (1.14.1)\n",
            "Requirement already satisfied: contourpy>=1.0.1 in /usr/local/lib/python3.10/dist-packages (from matplotlib->-r requirements.txt (line 10)) (1.0.7)\n",
            "Requirement already satisfied: cycler>=0.10 in /usr/local/lib/python3.10/dist-packages (from matplotlib->-r requirements.txt (line 10)) (0.11.0)\n",
            "Requirement already satisfied: fonttools>=4.22.0 in /usr/local/lib/python3.10/dist-packages (from matplotlib->-r requirements.txt (line 10)) (4.39.3)\n",
            "Requirement already satisfied: kiwisolver>=1.0.1 in /usr/local/lib/python3.10/dist-packages (from matplotlib->-r requirements.txt (line 10)) (1.4.4)\n",
            "Requirement already satisfied: pillow>=6.2.0 in /usr/local/lib/python3.10/dist-packages (from matplotlib->-r requirements.txt (line 10)) (8.4.0)\n",
            "Requirement already satisfied: pyparsing>=2.3.1 in /usr/local/lib/python3.10/dist-packages (from matplotlib->-r requirements.txt (line 10)) (3.0.9)\n",
            "Requirement already satisfied: python-dateutil>=2.7 in /usr/local/lib/python3.10/dist-packages (from matplotlib->-r requirements.txt (line 10)) (2.8.2)\n",
            "Requirement already satisfied: notebook in /usr/local/lib/python3.10/dist-packages (from jupyter->-r requirements.txt (line 11)) (6.4.8)\n",
            "Collecting qtconsole (from jupyter->-r requirements.txt (line 11))\n",
            "  Downloading qtconsole-5.4.2-py3-none-any.whl (121 kB)\n",
            "\u001b[2K     \u001b[90m━━━━━━━━━━━━━━━━━━━━━━━━━━━━━━━━━━━━━━\u001b[0m \u001b[32m121.2/121.2 kB\u001b[0m \u001b[31m16.4 MB/s\u001b[0m eta \u001b[36m0:00:00\u001b[0m\n",
            "\u001b[?25hRequirement already satisfied: jupyter-console in /usr/local/lib/python3.10/dist-packages (from jupyter->-r requirements.txt (line 11)) (6.1.0)\n",
            "Requirement already satisfied: nbconvert in /usr/local/lib/python3.10/dist-packages (from jupyter->-r requirements.txt (line 11)) (6.5.4)\n",
            "Requirement already satisfied: ipykernel in /usr/local/lib/python3.10/dist-packages (from jupyter->-r requirements.txt (line 11)) (5.5.6)\n",
            "Requirement already satisfied: ipywidgets in /usr/local/lib/python3.10/dist-packages (from jupyter->-r requirements.txt (line 11)) (7.7.1)\n",
            "Requirement already satisfied: dm-tree>=0.1.5 in /usr/local/lib/python3.10/dist-packages (from chex>=0.1.5->optax->-r requirements.txt (line 5)) (0.1.8)\n",
            "Requirement already satisfied: toolz>=0.9.0 in /usr/local/lib/python3.10/dist-packages (from chex>=0.1.5->optax->-r requirements.txt (line 5)) (0.12.0)\n",
            "Requirement already satisfied: six>=1.5 in /usr/local/lib/python3.10/dist-packages (from python-dateutil>=2.7->matplotlib->-r requirements.txt (line 10)) (1.16.0)\n",
            "Requirement already satisfied: markdown-it-py<3.0.0,>=2.2.0 in /usr/local/lib/python3.10/dist-packages (from rich>=11.1->flax->-r requirements.txt (line 4)) (2.2.0)\n",
            "Requirement already satisfied: pygments<3.0.0,>=2.13.0 in /usr/local/lib/python3.10/dist-packages (from rich>=11.1->flax->-r requirements.txt (line 4)) (2.14.0)\n",
            "Requirement already satisfied: importlib_resources in /usr/local/lib/python3.10/dist-packages (from etils[epath]->clu->-r requirements.txt (line 8)) (5.12.0)\n",
            "Requirement already satisfied: zipp in /usr/local/lib/python3.10/dist-packages (from etils[epath]->clu->-r requirements.txt (line 8)) (3.15.0)\n",
            "Requirement already satisfied: ipython-genutils in /usr/local/lib/python3.10/dist-packages (from ipykernel->jupyter->-r requirements.txt (line 11)) (0.2.0)\n",
            "Requirement already satisfied: ipython>=5.0.0 in /usr/local/lib/python3.10/dist-packages (from ipykernel->jupyter->-r requirements.txt (line 11)) (7.34.0)\n",
            "Requirement already satisfied: traitlets>=4.1.0 in /usr/local/lib/python3.10/dist-packages (from ipykernel->jupyter->-r requirements.txt (line 11)) (5.7.1)\n",
            "Requirement already satisfied: jupyter-client in /usr/local/lib/python3.10/dist-packages (from ipykernel->jupyter->-r requirements.txt (line 11)) (6.1.12)\n",
            "Requirement already satisfied: tornado>=4.2 in /usr/local/lib/python3.10/dist-packages (from ipykernel->jupyter->-r requirements.txt (line 11)) (6.2)\n",
            "Requirement already satisfied: widgetsnbextension~=3.6.0 in /usr/local/lib/python3.10/dist-packages (from ipywidgets->jupyter->-r requirements.txt (line 11)) (3.6.4)\n",
            "Requirement already satisfied: jupyterlab-widgets>=1.0.0 in /usr/local/lib/python3.10/dist-packages (from ipywidgets->jupyter->-r requirements.txt (line 11)) (3.0.7)\n",
            "Requirement already satisfied: MarkupSafe>=2.0 in /usr/local/lib/python3.10/dist-packages (from jinja2->torch->-r requirements.txt (line 7)) (2.1.2)\n",
            "Requirement already satisfied: prompt-toolkit!=3.0.0,!=3.0.1,<3.1.0,>=2.0.0 in /usr/local/lib/python3.10/dist-packages (from jupyter-console->jupyter->-r requirements.txt (line 11)) (3.0.38)\n",
            "Requirement already satisfied: contextlib2 in /usr/local/lib/python3.10/dist-packages (from ml-collections->clu->-r requirements.txt (line 8)) (0.6.0.post1)\n",
            "Requirement already satisfied: lxml in /usr/local/lib/python3.10/dist-packages (from nbconvert->jupyter->-r requirements.txt (line 11)) (4.9.2)\n",
            "Requirement already satisfied: beautifulsoup4 in /usr/local/lib/python3.10/dist-packages (from nbconvert->jupyter->-r requirements.txt (line 11)) (4.11.2)\n",
            "Requirement already satisfied: bleach in /usr/local/lib/python3.10/dist-packages (from nbconvert->jupyter->-r requirements.txt (line 11)) (6.0.0)\n",
            "Requirement already satisfied: defusedxml in /usr/local/lib/python3.10/dist-packages (from nbconvert->jupyter->-r requirements.txt (line 11)) (0.7.1)\n",
            "Requirement already satisfied: entrypoints>=0.2.2 in /usr/local/lib/python3.10/dist-packages (from nbconvert->jupyter->-r requirements.txt (line 11)) (0.4)\n",
            "Requirement already satisfied: jupyter-core>=4.7 in /usr/local/lib/python3.10/dist-packages (from nbconvert->jupyter->-r requirements.txt (line 11)) (5.3.0)\n",
            "Requirement already satisfied: jupyterlab-pygments in /usr/local/lib/python3.10/dist-packages (from nbconvert->jupyter->-r requirements.txt (line 11)) (0.2.2)\n",
            "Requirement already satisfied: mistune<2,>=0.8.1 in /usr/local/lib/python3.10/dist-packages (from nbconvert->jupyter->-r requirements.txt (line 11)) (0.8.4)\n",
            "Requirement already satisfied: nbclient>=0.5.0 in /usr/local/lib/python3.10/dist-packages (from nbconvert->jupyter->-r requirements.txt (line 11)) (0.7.4)\n",
            "Requirement already satisfied: nbformat>=5.1 in /usr/local/lib/python3.10/dist-packages (from nbconvert->jupyter->-r requirements.txt (line 11)) (5.8.0)\n",
            "Requirement already satisfied: pandocfilters>=1.4.1 in /usr/local/lib/python3.10/dist-packages (from nbconvert->jupyter->-r requirements.txt (line 11)) (1.5.0)\n",
            "Requirement already satisfied: tinycss2 in /usr/local/lib/python3.10/dist-packages (from nbconvert->jupyter->-r requirements.txt (line 11)) (1.2.1)\n",
            "Requirement already satisfied: pyzmq>=17 in /usr/local/lib/python3.10/dist-packages (from notebook->jupyter->-r requirements.txt (line 11)) (23.2.1)\n",
            "Requirement already satisfied: argon2-cffi in /usr/local/lib/python3.10/dist-packages (from notebook->jupyter->-r requirements.txt (line 11)) (21.3.0)\n",
            "Requirement already satisfied: nest-asyncio>=1.5 in /usr/local/lib/python3.10/dist-packages (from notebook->jupyter->-r requirements.txt (line 11)) (1.5.6)\n",
            "Requirement already satisfied: Send2Trash>=1.8.0 in /usr/local/lib/python3.10/dist-packages (from notebook->jupyter->-r requirements.txt (line 11)) (1.8.0)\n",
            "Requirement already satisfied: terminado>=0.8.3 in /usr/local/lib/python3.10/dist-packages (from notebook->jupyter->-r requirements.txt (line 11)) (0.17.1)\n",
            "Requirement already satisfied: prometheus-client in /usr/local/lib/python3.10/dist-packages (from notebook->jupyter->-r requirements.txt (line 11)) (0.16.0)\n",
            "Requirement already satisfied: cached_property in /usr/local/lib/python3.10/dist-packages (from orbax-checkpoint->flax->-r requirements.txt (line 4)) (1.5.2)\n",
            "Collecting qtpy>=2.0.1 (from qtconsole->jupyter->-r requirements.txt (line 11))\n",
            "  Downloading QtPy-2.3.1-py3-none-any.whl (84 kB)\n",
            "\u001b[2K     \u001b[90m━━━━━━━━━━━━━━━━━━━━━━━━━━━━━━━━━━━━━━━━\u001b[0m \u001b[32m84.9/84.9 kB\u001b[0m \u001b[31m11.5 MB/s\u001b[0m eta \u001b[36m0:00:00\u001b[0m\n",
            "\u001b[?25hRequirement already satisfied: mpmath>=0.19 in /usr/local/lib/python3.10/dist-packages (from sympy->torch->-r requirements.txt (line 7)) (1.3.0)\n",
            "Requirement already satisfied: setuptools>=18.5 in /usr/local/lib/python3.10/dist-packages (from ipython>=5.0.0->ipykernel->jupyter->-r requirements.txt (line 11)) (67.7.2)\n",
            "Collecting jedi>=0.16 (from ipython>=5.0.0->ipykernel->jupyter->-r requirements.txt (line 11))\n",
            "  Downloading jedi-0.18.2-py2.py3-none-any.whl (1.6 MB)\n",
            "\u001b[2K     \u001b[90m━━━━━━━━━━━━━━━━━━━━━━━━━━━━━━━━━━━━━━━━\u001b[0m \u001b[32m1.6/1.6 MB\u001b[0m \u001b[31m26.6 MB/s\u001b[0m eta \u001b[36m0:00:00\u001b[0m\n",
            "\u001b[?25hRequirement already satisfied: decorator in /usr/local/lib/python3.10/dist-packages (from ipython>=5.0.0->ipykernel->jupyter->-r requirements.txt (line 11)) (4.4.2)\n",
            "Requirement already satisfied: pickleshare in /usr/local/lib/python3.10/dist-packages (from ipython>=5.0.0->ipykernel->jupyter->-r requirements.txt (line 11)) (0.7.5)\n",
            "Requirement already satisfied: backcall in /usr/local/lib/python3.10/dist-packages (from ipython>=5.0.0->ipykernel->jupyter->-r requirements.txt (line 11)) (0.2.0)\n",
            "Requirement already satisfied: matplotlib-inline in /usr/local/lib/python3.10/dist-packages (from ipython>=5.0.0->ipykernel->jupyter->-r requirements.txt (line 11)) (0.1.6)\n",
            "Requirement already satisfied: pexpect>4.3 in /usr/local/lib/python3.10/dist-packages (from ipython>=5.0.0->ipykernel->jupyter->-r requirements.txt (line 11)) (4.8.0)\n",
            "Requirement already satisfied: platformdirs>=2.5 in /usr/local/lib/python3.10/dist-packages (from jupyter-core>=4.7->nbconvert->jupyter->-r requirements.txt (line 11)) (3.3.0)\n",
            "Requirement already satisfied: mdurl~=0.1 in /usr/local/lib/python3.10/dist-packages (from markdown-it-py<3.0.0,>=2.2.0->rich>=11.1->flax->-r requirements.txt (line 4)) (0.1.2)\n",
            "Requirement already satisfied: fastjsonschema in /usr/local/lib/python3.10/dist-packages (from nbformat>=5.1->nbconvert->jupyter->-r requirements.txt (line 11)) (2.16.3)\n",
            "Requirement already satisfied: jsonschema>=2.6 in /usr/local/lib/python3.10/dist-packages (from nbformat>=5.1->nbconvert->jupyter->-r requirements.txt (line 11)) (4.3.3)\n",
            "Requirement already satisfied: wcwidth in /usr/local/lib/python3.10/dist-packages (from prompt-toolkit!=3.0.0,!=3.0.1,<3.1.0,>=2.0.0->jupyter-console->jupyter->-r requirements.txt (line 11)) (0.2.6)\n",
            "Requirement already satisfied: ptyprocess in /usr/local/lib/python3.10/dist-packages (from terminado>=0.8.3->notebook->jupyter->-r requirements.txt (line 11)) (0.7.0)\n",
            "Requirement already satisfied: argon2-cffi-bindings in /usr/local/lib/python3.10/dist-packages (from argon2-cffi->notebook->jupyter->-r requirements.txt (line 11)) (21.2.0)\n",
            "Requirement already satisfied: soupsieve>1.2 in /usr/local/lib/python3.10/dist-packages (from beautifulsoup4->nbconvert->jupyter->-r requirements.txt (line 11)) (2.4.1)\n",
            "Requirement already satisfied: webencodings in /usr/local/lib/python3.10/dist-packages (from bleach->nbconvert->jupyter->-r requirements.txt (line 11)) (0.5.1)\n",
            "Requirement already satisfied: parso<0.9.0,>=0.8.0 in /usr/local/lib/python3.10/dist-packages (from jedi>=0.16->ipython>=5.0.0->ipykernel->jupyter->-r requirements.txt (line 11)) (0.8.3)\n",
            "Requirement already satisfied: attrs>=17.4.0 in /usr/local/lib/python3.10/dist-packages (from jsonschema>=2.6->nbformat>=5.1->nbconvert->jupyter->-r requirements.txt (line 11)) (23.1.0)\n",
            "Requirement already satisfied: pyrsistent!=0.17.0,!=0.17.1,!=0.17.2,>=0.14.0 in /usr/local/lib/python3.10/dist-packages (from jsonschema>=2.6->nbformat>=5.1->nbconvert->jupyter->-r requirements.txt (line 11)) (0.19.3)\n",
            "Requirement already satisfied: cffi>=1.0.1 in /usr/local/lib/python3.10/dist-packages (from argon2-cffi-bindings->argon2-cffi->notebook->jupyter->-r requirements.txt (line 11)) (1.15.1)\n",
            "Requirement already satisfied: pycparser in /usr/local/lib/python3.10/dist-packages (from cffi>=1.0.1->argon2-cffi-bindings->argon2-cffi->notebook->jupyter->-r requirements.txt (line 11)) (2.21)\n",
            "Building wheels for collected packages: ml-collections\n",
            "  Building wheel for ml-collections (setup.py) ... \u001b[?25l\u001b[?25hdone\n",
            "  Created wheel for ml-collections: filename=ml_collections-0.1.1-py3-none-any.whl size=94524 sha256=95a2fff343198a50bef470af0dfccd5310844c3d83d908bca42ca8e872d740b4\n",
            "  Stored in directory: /root/.cache/pip/wheels/7b/89/c9/a9b87790789e94aadcfc393c283e3ecd5ab916aed0a31be8fe\n",
            "Successfully built ml-collections\n",
            "Installing collected packages: qtpy, ml-collections, jmp, jedi, dm-haiku, qtconsole, clu, jupyter\n",
            "Successfully installed clu-0.0.9 dm-haiku-0.0.9 jedi-0.18.2 jmp-0.0.4 jupyter-1.0.0 ml-collections-0.1.1 qtconsole-5.4.2 qtpy-2.3.1\n"
          ]
        }
      ],
      "source": [
        "# First, some imports!\n",
        "!pip install -r requirements.txt\n",
        "\n",
        "import torch\n",
        "from torch.utils.data import Dataset\n",
        "import numpy as np\n",
        "import matplotlib.pyplot as plt\n",
        "%matplotlib inline\n",
        "np.random.seed(182)\n",
        "\n",
        "\n",
        "import model"
      ]
    },
    {
      "cell_type": "markdown",
      "metadata": {
        "collapsed": false,
        "pycharm": {
          "name": "#%% md\n"
        },
        "id": "t8mfd5gCWZtO"
      },
      "source": [
        "## 1. Attention is all we need!"
      ]
    },
    {
      "cell_type": "markdown",
      "metadata": {
        "collapsed": false,
        "pycharm": {
          "name": "#%% md\n"
        },
        "id": "Z77Nb9ceWZtO"
      },
      "source": [
        "In this section, we are going to be focusing specifically on the attention mechanism that is at the heart of its architecture. Attention is a critical component of many modern neural networks, and it plays a particularly important role in natural language processing tasks such as language modeling and machine translation. By completing this section of the homework, you will gain a deeper understanding of how attention works and how it can be used to improve the performance of language models. \n",
        "<br/>You will now implement the causal self attention for (min) GPT! You will implmement the code in the `model.py` file. Read the instructions in the docstring and then fill in the code in the places that says `#YOUR CODE HERE`."
      ]
    },
    {
      "cell_type": "markdown",
      "metadata": {
        "collapsed": false,
        "pycharm": {
          "name": "#%% md\n"
        },
        "id": "EBEmsobnWZtP"
      },
      "source": [
        "## 2. Unpacking the MLP: Layer by Layer for Better Language Modeling"
      ]
    },
    {
      "cell_type": "markdown",
      "metadata": {
        "collapsed": false,
        "pycharm": {
          "name": "#%% md\n"
        },
        "id": "dU-SqUp9WZtP"
      },
      "source": [
        "The multi-layer perceptron (MLP) in GPT, also known as the feedforward network, is an essential component that helps to improve the model's ability to learn from sequential data. While the self-attention mechanism in GPT allows the model to attend to different parts of the input sequence, the MLP is responsible for processing and transforming the attended features before they are fed into the next layer. This additional non-linearity helps to capture more complex patterns and dependencies between the input tokens, leading to better performance on a wide range of language modeling tasks.\n",
        "<br/> In this section, you are going to implement the MLP for (min) GPT! You will implmement the code in the `model.py` file. Read the instructions in the docstring and then fill in the code in the places that says `#YOUR CODE HERE`.\n",
        "<!--<br/> HINT: Read the documentation [here](https://flax.readthedocs.io/en/latest/api_reference/_autosummary/flax.linen.Dense.html)-->"
      ]
    },
    {
      "cell_type": "code",
      "execution_count": null,
      "metadata": {
        "pycharm": {
          "name": "#%%\n"
        },
        "id": "qPL17W99WZtQ",
        "outputId": "f6af8c32-f91b-4b0f-a418-1287bbb08098",
        "colab": {
          "base_uri": "https://localhost:8080/",
          "height": 366
        }
      },
      "outputs": [
        {
          "output_type": "error",
          "ename": "ImportError",
          "evalue": "ignored",
          "traceback": [
            "\u001b[0;31m---------------------------------------------------------------------------\u001b[0m",
            "\u001b[0;31mImportError\u001b[0m                               Traceback (most recent call last)",
            "\u001b[0;32m<ipython-input-9-370c62825fda>\u001b[0m in \u001b[0;36m<cell line: 2>\u001b[0;34m()\u001b[0m\n\u001b[1;32m      1\u001b[0m \u001b[0;31m# some tests here\u001b[0m\u001b[0;34m\u001b[0m\u001b[0;34m\u001b[0m\u001b[0m\n\u001b[0;32m----> 2\u001b[0;31m \u001b[0;32mfrom\u001b[0m \u001b[0mtests\u001b[0m \u001b[0;32mimport\u001b[0m \u001b[0mtest_set_params_mlp\u001b[0m\u001b[0;34m\u001b[0m\u001b[0;34m\u001b[0m\u001b[0m\n\u001b[0m\u001b[1;32m      3\u001b[0m \u001b[0mget_ipython\u001b[0m\u001b[0;34m(\u001b[0m\u001b[0;34m)\u001b[0m\u001b[0;34m.\u001b[0m\u001b[0mrun_line_magic\u001b[0m\u001b[0;34m(\u001b[0m\u001b[0;34m'run'\u001b[0m\u001b[0;34m,\u001b[0m \u001b[0;34m\"-i 'tests/test_set_params_mlp.py'\"\u001b[0m\u001b[0;34m)\u001b[0m\u001b[0;34m\u001b[0m\u001b[0;34m\u001b[0m\u001b[0m\n",
            "\u001b[0;31mImportError\u001b[0m: cannot import name 'test_set_params_mlp' from 'tests' (/content/gdrive/My Drive/cs182-minGPT_sp23/cs282_project_gpt_jax-homework/tests/__init__.py)",
            "",
            "\u001b[0;31m---------------------------------------------------------------------------\u001b[0;32m\nNOTE: If your import is failing due to a missing package, you can\nmanually install dependencies using either !pip or !apt.\n\nTo view examples of installing some common dependencies, click the\n\"Open Examples\" button below.\n\u001b[0;31m---------------------------------------------------------------------------\u001b[0m\n"
          ],
          "errorDetails": {
            "actions": [
              {
                "action": "open_url",
                "actionText": "Open Examples",
                "url": "/notebooks/snippets/importing_libraries.ipynb"
              }
            ]
          }
        }
      ],
      "source": [
        "# some tests here\n",
        "from tests import test_set_params_mlp\n",
        "%run -i 'tests/test_set_params_mlp.py'"
      ]
    },
    {
      "cell_type": "markdown",
      "metadata": {
        "collapsed": false,
        "pycharm": {
          "name": "#%% md\n"
        },
        "id": "SUuKdcfrWZtR"
      },
      "source": [
        "## 3. From Text to Numbers: Understanding Encoding in Natural Language Processing"
      ]
    },
    {
      "cell_type": "markdown",
      "metadata": {
        "collapsed": false,
        "pycharm": {
          "name": "#%% md\n"
        },
        "id": "nH3YRcCEWZtR"
      },
      "source": [
        "The encoding section focuses on one of the most important aspects of natural language processing: converting textual data into numerical representations that can be understood and processed by machine learning models. In this section, we will explore the different types of encoding methods commonly used in NLP, including one-hot encoding, word embeddings, and more. By the end of this section, you should have a better understanding of how encoding works and why it is crucial for many language-based applications. You will implmement the code in the `encoding/bpe.py` file. Read the instructions in the docstring and then fill in the code in the places that says `#YOUR CODE HERE`."
      ]
    },
    {
      "cell_type": "code",
      "execution_count": null,
      "metadata": {
        "pycharm": {
          "name": "#%%\n"
        },
        "id": "5CQ-b1-WWZtR"
      },
      "outputs": [],
      "source": [
        "# some tests here\n",
        "from tests.test_encoding import TestEncoder\n",
        "TestEncoder().autograde()"
      ]
    },
    {
      "cell_type": "markdown",
      "metadata": {
        "collapsed": false,
        "pycharm": {
          "name": "#%% md\n"
        },
        "id": "_lEKsl6-WZtR"
      },
      "source": [
        "## 4. Crossing the Finish Line: Completing the MinGPT model</h3>"
      ]
    },
    {
      "cell_type": "markdown",
      "metadata": {
        "collapsed": false,
        "pycharm": {
          "name": "#%% md\n"
        },
        "id": "n2Y1Lk3YWZtS"
      },
      "source": [
        "We're almost there! In this section, you will complete the final parts of the minGPT model."
      ]
    },
    {
      "cell_type": "markdown",
      "metadata": {
        "id": "MK3DjXz7WZtS"
      },
      "source": [
        "### 4.1 Transformer Block\n",
        "Complete the Transformer Block class in the `model.py` file"
      ]
    },
    {
      "cell_type": "markdown",
      "metadata": {
        "id": "j2snAQ9wWZtS"
      },
      "source": [
        "### 4.2 GPT\n",
        "Complete the GPT class in the `model.py` file"
      ]
    },
    {
      "cell_type": "code",
      "execution_count": null,
      "metadata": {
        "pycharm": {
          "name": "#%%\n"
        },
        "id": "YCGP7ZEYWZtT"
      },
      "outputs": [],
      "source": [
        "# Let's run some tests to see if your implementation is correct!\n",
        "from tests import test_set_params_all_blocks\n",
        "%run -i 'tests/test_set_params_all_blocks.py'"
      ]
    },
    {
      "cell_type": "markdown",
      "metadata": {
        "collapsed": false,
        "pycharm": {
          "name": "#%% md\n"
        },
        "id": "lGaGsIkfWZtT"
      },
      "source": [
        "## 5. Unleashing the power of minGPT: Training (and testing) the model!"
      ]
    },
    {
      "cell_type": "markdown",
      "metadata": {
        "collapsed": false,
        "pycharm": {
          "name": "#%% md\n"
        },
        "id": "XvT8XU-0WZtU"
      },
      "source": [
        "We will now train minGPT to be a character-level language model on some input text file. The input text file is an extract of text from German philosopher, Friedrich Wilhelm Nietzsche. <br/> To use minGPT as a character level language model, we first preprocess the input text by converting it into a sequence of characters. We then train the model to predict the next character in the sequence given the preceding characters as input. Once the model is trained, we can use it to generate new text by feeding it a starting sequence (context) and iteratively sampling new characters from the model's predicted distribution until the desired length of text is generated. By using minGPT as a character level language model, we can generate new text that is similar in style and content to the input data, making it a useful tool for tasks such as text generation, language modeling, and autocompletion tasks."
      ]
    },
    {
      "cell_type": "code",
      "execution_count": 8,
      "metadata": {
        "pycharm": {
          "name": "#%%\n"
        },
        "id": "dd4Ya25bWZtU"
      },
      "outputs": [],
      "source": [
        "from torch.utils.data import Dataset\n",
        "class TextDataset(Dataset):\n",
        "\n",
        "    def __init__(self, data, block_size):\n",
        "        chars = sorted(list(set(data)))\n",
        "        data_size, vocab_size = len(data), len(chars)\n",
        "        print('The input data has %d characters. %d of these characters are unique. These characters include uppercase and lower case letters, as well as punctuations.'\n",
        "        % (data_size, vocab_size))\n",
        "        \n",
        "        self.stoi = {ch:i for i,ch in enumerate(chars)}\n",
        "        self.itos = {i:ch for i,ch in enumerate(chars)} # will be used for prediction/text generation task\n",
        "        self.block_size = block_size\n",
        "        self.vocab_size = vocab_size\n",
        "        self.data = data\n",
        "\n",
        "    def __getitem__(self, idx):\n",
        "        text_block = self.data[idx:idx + self.block_size + 1]\n",
        "        # encode every character to an integer\n",
        "        encoded_txt = [self.stoi[char] for char in text_block]\n",
        "        x = torch.tensor(encoded_txt[:-1], dtype=torch.long)\n",
        "        y = torch.tensor(encoded_txt[1:], dtype=torch.long)\n",
        "        return x, y\n",
        "\n",
        "    def __len__(self):\n",
        "        return (len(self.data) - self.block_size)"
      ]
    },
    {
      "cell_type": "markdown",
      "metadata": {
        "collapsed": false,
        "pycharm": {
          "name": "#%% md\n"
        },
        "id": "uLRQj1JQWZtU"
      },
      "source": [
        "Let's now load the input Nietzsche text file and look at the composition of the text."
      ]
    },
    {
      "cell_type": "code",
      "execution_count": 9,
      "metadata": {
        "pycharm": {
          "name": "#%%\n"
        },
        "id": "K3LWVMr7WZtU",
        "outputId": "fb4b429e-8392-4024-fc3a-5e4d478f8cf8",
        "colab": {
          "base_uri": "https://localhost:8080/"
        }
      },
      "outputs": [
        {
          "output_type": "stream",
          "name": "stdout",
          "text": [
            "The input data has 600893 characters. 84 of these characters are unique. These characters include uppercase and lower case letters, as well as punctuations.\n"
          ]
        }
      ],
      "source": [
        "# Let's load in the input data of Nietzsche text\n",
        "nietzsche_txt = open('./gpt_text_input/nietzsche.txt', 'r').read() \n",
        "dataset = TextDataset(nietzsche_txt, block_size = 64)\n"
      ]
    },
    {
      "cell_type": "markdown",
      "metadata": {
        "collapsed": false,
        "pycharm": {
          "name": "#%% md\n"
        },
        "id": "XqBZEmCmWZtV"
      },
      "source": [
        "Go through the `train_config.py` file in the `train` directory. It contains the parameters we will use to train the model. You can play aroud with these parameters after you have trained the model for the first time. "
      ]
    },
    {
      "cell_type": "markdown",
      "metadata": {
        "collapsed": false,
        "pycharm": {
          "name": "#%% md\n"
        },
        "id": "yqPyt_3ZWZtV"
      },
      "source": [
        "#### Initialize the model and the training instance"
      ]
    },
    {
      "cell_type": "code",
      "execution_count": 10,
      "metadata": {
        "pycharm": {
          "name": "#%%\n"
        },
        "id": "Ycsgp34-WZtW"
      },
      "outputs": [],
      "source": [
        "from train.trainer import create_train_state, Trainer\n",
        "from model import GPT\n",
        "from jax import random\n",
        "\n",
        "train_dataset, test_dataset = torch.utils.data.random_split(dataset, (0.9, 0.1))\n",
        "\n",
        "param_key, generation_key, dropout_key = random.split(random.PRNGKey(1), 3)\n",
        "\n",
        "init_rng = {\"params\": param_key, 'dropout' : dropout_key}\n",
        "\n",
        "model_config = {\n",
        "    \"n_layers\": 6,\n",
        "    \"n_head\": 6,\n",
        "    \"n_embd\": 20*6,\n",
        "    \"vocab_size\": dataset.vocab_size,\n",
        "    \"block_size\": dataset.block_size,\n",
        "    \"embd_pdrop\": 0.1\n",
        "}\n",
        "\n",
        "num_epochs = 6\n",
        "\n",
        "model = GPT(**model_config)\n",
        "\n",
        "state = create_train_state(model, init_rng, model_config, key=dropout_key)\n",
        "trainer = Trainer(train_dataset, test_dataset, train_state=state)"
      ]
    },
    {
      "cell_type": "markdown",
      "metadata": {
        "collapsed": false,
        "pycharm": {
          "name": "#%% md\n"
        },
        "id": "knO6LyF2WZtX"
      },
      "source": [
        "#### Run the training"
      ]
    },
    {
      "cell_type": "code",
      "execution_count": 11,
      "metadata": {
        "pycharm": {
          "name": "#%%\n"
        },
        "id": "s_p6PJSgWZtX",
        "outputId": "c61bf756-656a-4ccd-aaf5-8fd60efc275a",
        "colab": {
          "base_uri": "https://localhost:8080/"
        }
      },
      "outputs": [
        {
          "output_type": "stream",
          "name": "stderr",
          "text": [
            "100%|██████████| 8450/8450 [03:52<00:00, 36.28it/s]\n"
          ]
        },
        {
          "output_type": "stream",
          "name": "stdout",
          "text": [
            "train_accuracy: 0.5535153746604919\n",
            "train_loss: 1.4726474285125732\n",
            "test_accuracy: 0.6239490509033203\n",
            "test_loss: 1.2066422700881958\n"
          ]
        },
        {
          "output_type": "stream",
          "name": "stderr",
          "text": [
            "100%|██████████| 8450/8450 [03:38<00:00, 38.74it/s]\n"
          ]
        },
        {
          "output_type": "stream",
          "name": "stdout",
          "text": [
            "train_accuracy: 0.6683119535446167\n",
            "train_loss: 1.0621147155761719\n",
            "test_accuracy: 0.687383770942688\n",
            "test_loss: 0.9907198548316956\n"
          ]
        },
        {
          "output_type": "stream",
          "name": "stderr",
          "text": [
            "100%|██████████| 8450/8450 [03:33<00:00, 39.61it/s]\n"
          ]
        },
        {
          "output_type": "stream",
          "name": "stdout",
          "text": [
            "train_accuracy: 0.7320325970649719\n",
            "train_loss: 0.8581754565238953\n",
            "test_accuracy: 0.7394455671310425\n",
            "test_loss: 0.8225539922714233\n"
          ]
        },
        {
          "output_type": "stream",
          "name": "stderr",
          "text": [
            "100%|██████████| 8450/8450 [03:28<00:00, 40.54it/s]\n"
          ]
        },
        {
          "output_type": "stream",
          "name": "stdout",
          "text": [
            "train_accuracy: 0.7807595729827881\n",
            "train_loss: 0.7033030986785889\n",
            "test_accuracy: 0.7780829668045044\n",
            "test_loss: 0.6972053647041321\n"
          ]
        },
        {
          "output_type": "stream",
          "name": "stderr",
          "text": [
            "100%|██████████| 8450/8450 [03:29<00:00, 40.42it/s]\n"
          ]
        },
        {
          "output_type": "stream",
          "name": "stdout",
          "text": [
            "train_accuracy: 0.8147476315498352\n",
            "train_loss: 0.5953047275543213\n",
            "test_accuracy: 0.8038331866264343\n",
            "test_loss: 0.6128572225570679\n"
          ]
        },
        {
          "output_type": "stream",
          "name": "stderr",
          "text": [
            "100%|██████████| 8450/8450 [03:28<00:00, 40.53it/s]\n"
          ]
        },
        {
          "output_type": "stream",
          "name": "stdout",
          "text": [
            "train_accuracy: 0.8378810286521912\n",
            "train_loss: 0.5218124985694885\n",
            "test_accuracy: 0.8220943808555603\n",
            "test_loss: 0.5539427995681763\n"
          ]
        }
      ],
      "source": [
        "for i in range(num_epochs):\n",
        "    trainer.run_trainer(epochs=1)"
      ]
    },
    {
      "cell_type": "markdown",
      "metadata": {
        "collapsed": false,
        "pycharm": {
          "name": "#%% md\n"
        },
        "id": "kuZT0s51WZtX"
      },
      "source": [
        "#### Plot the loss and accuracy on the test dataset"
      ]
    },
    {
      "cell_type": "code",
      "execution_count": 12,
      "metadata": {
        "pycharm": {
          "name": "#%%\n"
        },
        "id": "dyWtoKm-WZtY",
        "outputId": "6ca58603-6aec-4680-8548-b898dec29b4f",
        "colab": {
          "base_uri": "https://localhost:8080/",
          "height": 448
        }
      },
      "outputs": [
        {
          "output_type": "execute_result",
          "data": {
            "text/plain": [
              "<matplotlib.legend.Legend at 0x7f740ee0eb00>"
            ]
          },
          "metadata": {},
          "execution_count": 12
        },
        {
          "output_type": "display_data",
          "data": {
            "text/plain": [
              "<Figure size 640x480 with 1 Axes>"
            ],
            "image/png": "[encoded data removed]"
          },
          "metadata": {}
        }
      ],
      "source": [
        "test_loss = trainer.metrics_history[\"test_loss\"]\n",
        "plt.plot(np.arange(0, len(test_loss), 1), test_loss, label=\"loss\")\n",
        "test_accuracy = trainer.metrics_history[\"test_accuracy\"]\n",
        "plt.plot(np.arange(0, len(test_accuracy), 1), test_accuracy, label=\"accuracy\")\n",
        "plt.legend()"
      ]
    },
    {
      "cell_type": "markdown",
      "source": [
        "#### Using the trained model"
      ],
      "metadata": {
        "id": "lradzA5denCV"
      }
    },
    {
      "cell_type": "markdown",
      "source": [
        "In this section we are going to explore how we can use the trained model. We will first start by defining some constants used in our predictions. The most important variables are **text**, which is our input, and **temperature**, which affects the randomness of the output."
      ],
      "metadata": {
        "id": "gKzDZyAXeop2"
      }
    },
    {
      "cell_type": "code",
      "source": [
        "state = trainer.train_state\n",
        "\n",
        "model = GPT(**model_config)\n",
        "\n",
        "text = \"What is the meaning of life the universe and everything? It is \"\n",
        "# Ensure that the input is the correct length:\n",
        "text = text.rjust(model_config[\"block_size\"])\n",
        "text = text[:model_config[\"block_size\"]]\n",
        "\n",
        "temperature=0.4\n",
        "max_generated_tokens=128\n",
        "\n",
        "tokenized_input = np.array([[dataset.stoi[t] for t in text]])\n"
      ],
      "metadata": {
        "id": "ZR7aN9fje5qo"
      },
      "execution_count": 35,
      "outputs": []
    },
    {
      "cell_type": "markdown",
      "source": [
        "Let's see explore which characters the model thinks are likely after this text input, and how different temperatures affect the probablities."
      ],
      "metadata": {
        "id": "JkWCLOErZkM1"
      }
    },
    {
      "cell_type": "code",
      "source": [
        "import flax.linen as nn\n",
        "# Predict the next token. We are only interested in the last token in the sequence\n",
        "\n",
        "predictions = model.apply(state.params, tokenized_input, training=False)[0,-1]\n",
        "\n",
        "predictions_low_temperature = predictions/0.5\n",
        "predictions_medium_temperature = predictions\n",
        "predictions_high_temperature = predictions/2\n",
        "\n",
        "probabilities_low = nn.softmax(predictions_low_temperature)\n",
        "probabilities_medium = nn.softmax(predictions_medium_temperature)\n",
        "probabilities_high = nn.softmax(predictions_high_temperature)\n",
        "\n",
        "\n",
        "\n",
        "indexes = jnp.argsort(-predictions)\n",
        "\n",
        "labels = [dataset.itos[int(index)]for index in indexes] \n",
        "\n",
        "probabilities_low_sorted =  [float(probabilities_low[int(index)]) for index in indexes]\n",
        "probabilities_medium_sorted =  [float(probabilities_medium[int(index)]) for index in indexes]\n",
        "probabilities_high_sorted =  [float(probabilities_high[int(index)]) for index in indexes]\n",
        "\n",
        "fig, axes = plt.subplots(1, 3, figsize=(14, 5))\n",
        "\n",
        "axes[0].bar(labels[:20], probabilities_low_sorted[:20])\n",
        "axes[1].bar(labels[:20], probabilities_medium_sorted[:20])\n",
        "axes[2].bar(labels[:20], probabilities_high_sorted[:20])\n",
        "\n",
        "axes[0].set_title(\"temperature = 0.5\")\n",
        "axes[1].set_title(\"temperature = 1.0\")\n",
        "axes[2].set_title(\"temperature = 2.0\")\n"
      ],
      "metadata": {
        "id": "MsnhuFoeZiy3",
        "outputId": "1235aacd-195e-482b-87ce-71a0c350f866",
        "colab": {
          "base_uri": "https://localhost:8080/",
          "height": 401
        }
      },
      "execution_count": 36,
      "outputs": [
        {
          "output_type": "execute_result",
          "data": {
            "text/plain": [
              "Text(0.5, 1.0, 'temperature = 2.0')"
            ]
          },
          "metadata": {},
          "execution_count": 36
        },
        {
          "output_type": "display_data",
          "data": {
            "text/plain": [
              "<Figure size 1400x500 with 3 Axes>"
            ],
            "image/png": "[encoded data removed]"
          },
          "metadata": {}
        }
      ]
    },
    {
      "cell_type": "markdown",
      "source": [
        "Now we will make the model predict one full word. Note that the random key is constant, so it will always generates the same word for the same input."
      ],
      "metadata": {
        "id": "Dn-nKj2ieUDZ"
      }
    },
    {
      "cell_type": "code",
      "source": [
        "# We want the model to stop generating after it reaches one of these characters\n",
        "stop_tokens = [dataset.stoi[\" \"], dataset.stoi[\"\\n\"],  dataset.stoi[\".\"],  dataset.stoi[\",\"]]\n",
        "print(\"Generated sequence: \")\n",
        "model.verbose_generate(state.params, tokenized_input, max_generated_tokens, key1, dataset.itos, temperature, stop_tokens=stop_tokens)\n",
        "print()"
      ],
      "metadata": {
        "id": "cd2a5f2_eGZJ",
        "outputId": "57c38527-f1d1-4816-d030-da80698a606f",
        "colab": {
          "base_uri": "https://localhost:8080/"
        }
      },
      "execution_count": 37,
      "outputs": [
        {
          "output_type": "stream",
          "name": "stdout",
          "text": [
            "Generated sequence: \n",
            " What is the meaning of life the universe and everything? It is something\n",
            "\n",
            "\n"
          ]
        }
      ]
    },
    {
      "cell_type": "markdown",
      "metadata": {
        "collapsed": false,
        "pycharm": {
          "name": "#%% md\n"
        },
        "id": "OLxq_eukWZtY"
      },
      "source": [
        "Finally we will use the trained model to generate longer sequences. Try experimenting with different input texts and temperatures!",
        "<br/>Note that the model is trained for a short while on a small dataset, so the performance will not match other large language models you may be familiar with."
      ]
    },
    {
      "cell_type": "code",
      "execution_count": 38,
      "metadata": {
        "pycharm": {
          "name": "#%%\n"
        },
        "id": "-8MKEVzGWZtY",
        "outputId": "5c080341-3735-43a2-e357-49877f774ea4",
        "colab": {
          "base_uri": "https://localhost:8080/"
        }
      },
      "outputs": [
        {
          "output_type": "stream",
          "name": "stdout",
          "text": [
            "Generated sequence: \n",
            " What is the meaning of life the universe and everything? It is something\n",
            "that the ear-has, we all willing bearing all the past,\n",
            "and a try to chup: accont in his shame overconce and the mind i\n",
            "\n"
          ]
        }
      ],
      "source": [
        "state=trainer.train_state\n",
        "print(\"Generated sequence: \")\n",
        "model.verbose_generate(state.params, tokenized_input, max_generated_tokens, key1, dataset.itos, temperature)\n",
        "print() "
      ]
    },
    {
      "cell_type": "code",
      "execution_count": null,
      "metadata": {
        "pycharm": {
          "name": "#%%\n"
        },
        "id": "ijidvORrWZtZ"
      },
      "outputs": [],
      "source": []
    }
  ],
  "metadata": {
    "kernelspec": {
      "display_name": "Python 3 (ipykernel)",
      "language": "python",
      "name": "python3"
    },
    "language_info": {
      "codemirror_mode": {
        "name": "ipython",
        "version": 3
      },
      "file_extension": ".py",
      "mimetype": "text/x-python",
      "name": "python",
      "nbconvert_exporter": "python",
      "pygments_lexer": "ipython3",
      "version": "3.9.12"
    },
    "vscode": {
      "interpreter": {
        "hash": "b0b5e19b0de7feeb6e6bb5f9738d975aa3f5dabb2cb545fec106b49f43b6978a"
      }
    },
    "colab": {
      "provenance": []
    },
    "accelerator": "GPU",
    "gpuClass": "standard"
  },
  "nbformat": 4,
  "nbformat_minor": 0
}
