{
 "cells": [
  {
   "cell_type": "code",
   "execution_count": 1,
   "metadata": {
    "collapsed": true,
    "pycharm": {
     "name": "#%%\n"
    }
   },
   "outputs": [
    {
     "name": "stderr",
     "output_type": "stream",
     "text": [
      "No GPU/TPU found, falling back to CPU. (Set TF_CPP_MIN_LOG_LEVEL=0 and rerun for more info.)\n"
     ]
    }
   ],
   "source": [
    "from jax import lax, random, numpy as jnp\n",
    "from train.trainer import create_train_state, Trainer\n",
    "from model import GPT\n",
    "import jax\n",
    "from torch.utils.data import Dataset, DataLoader\n",
    "import numpy as np\n",
    "import matplotlib.pyplot as plt\n",
    "import torch\n",
    "import pickle\n",
    "%matplotlib inline"
   ]
  },
  {
   "cell_type": "code",
   "execution_count": 2,
   "outputs": [],
   "source": [
    "config = {\n",
    "    \"n_layers\": 1,\n",
    "    \"n_head\": 7,\n",
    "    \"n_embd\": 21,\n",
    "    \"vocab_size\": 3,\n",
    "    \"block_size\": 11,\n",
    "    \"embd_pdrop\": 0.1\n",
    "}\n",
    "learning_rate = 0.01\n",
    "momentum = 0.99"
   ],
   "metadata": {
    "collapsed": false,
    "pycharm": {
     "name": "#%%\n"
    }
   }
  },
  {
   "cell_type": "code",
   "execution_count": 3,
   "outputs": [],
   "source": [
    "model = GPT(**config)"
   ],
   "metadata": {
    "collapsed": false,
    "pycharm": {
     "name": "#%%\n"
    }
   }
  },
  {
   "cell_type": "code",
   "execution_count": 4,
   "outputs": [],
   "source": [
    "key1, key2, dropout_key = random.split(random.PRNGKey(1), 3)\n",
    "\n",
    "init_rng = {\"params\": key2, 'dropout' : dropout_key}"
   ],
   "metadata": {
    "collapsed": false,
    "pycharm": {
     "name": "#%%\n"
    }
   }
  },
  {
   "cell_type": "code",
   "execution_count": 5,
   "outputs": [],
   "source": [
    "state = create_train_state(model, init_rng, learning_rate, momentum, config, key=dropout_key)"
   ],
   "metadata": {
    "collapsed": false,
    "pycharm": {
     "name": "#%%\n"
    }
   }
  },
  {
   "cell_type": "code",
   "execution_count": 6,
   "outputs": [],
   "source": [
    "class SortDataset(Dataset):\n",
    "    \"\"\"\n",
    "    Dataset for the Sort problem. E.g. for problem length 6:\n",
    "    Input: 0 0 2 1 0 1 -> Output: 0 0 0 1 1 2\n",
    "    Which will feed into the transformer concatenated as:\n",
    "    input:  0 0 2 1 0 1 0 0 0 1 1\n",
    "    output: I I I I I 0 0 0 1 1 2\n",
    "    where I is \"ignore\", as the transformer is reading the input sequence\n",
    "    \"\"\"\n",
    "\n",
    "    def __init__(self, split, length=(config[\"block_size\"]+1)//2, num_digits=config[\"vocab_size\"]):\n",
    "        assert split in {'train', 'test'}\n",
    "        self.split = split\n",
    "        self.length = length\n",
    "        self.num_digits = num_digits\n",
    "\n",
    "    def __len__(self):\n",
    "        return 10000 # ...\n",
    "\n",
    "    def get_vocab_size(self):\n",
    "        return self.num_digits\n",
    "\n",
    "    def get_block_size(self):\n",
    "        # the length of the sequence that will feed into transformer,\n",
    "        # containing concatenated input and the output, but -1 because\n",
    "        # the transformer starts making predictions at the last input element\n",
    "        return self.length * 2 - 1\n",
    "\n",
    "    def __getitem__(self, idx):\n",
    "\n",
    "        # use rejection sampling to generate an input example from the desired split\n",
    "        while True:\n",
    "            # generate some random integers\n",
    "            inp = torch.randint(self.num_digits, size=(self.length,), dtype=torch.long)\n",
    "            # half of the time let's try to boost the number of examples that\n",
    "            # have a large number of repeats, as this is what the model seems to struggle\n",
    "            # with later in training, and they are kind of rate\n",
    "            if torch.rand(1).item() < 0.5:\n",
    "                if inp.unique().nelement() > self.length // 2:\n",
    "                    # too many unqiue digits, re-sample\n",
    "                    continue\n",
    "            # figure out if this generated example is train or test based on its hash\n",
    "            h = hash(pickle.dumps(inp.tolist()))\n",
    "            inp_split = 'test' if h % 4 == 0 else 'train' # designate 25% of examples as test\n",
    "            if inp_split == self.split:\n",
    "                break # ok\n",
    "\n",
    "        # solve the task: i.e. sort\n",
    "        sol = torch.sort(inp)[0]\n",
    "\n",
    "        # concatenate the problem specification and the solution\n",
    "        cat = torch.cat((inp, sol), dim=0)\n",
    "\n",
    "        # the inputs to the transformer will be the offset sequence\n",
    "        x = cat[:-1].clone()\n",
    "        y = cat[1:].clone()\n",
    "        # we only want to predict at output locations, mask out the loss at the input locations\n",
    "        y[:self.length-1] = -1\n",
    "        return x, y"
   ],
   "metadata": {
    "collapsed": false,
    "pycharm": {
     "name": "#%%\n"
    }
   }
  },
  {
   "cell_type": "code",
   "execution_count": 7,
   "outputs": [],
   "source": [
    "trainer = Trainer(SortDataset(\"train\"), SortDataset(\"test\"), train_state=state)"
   ],
   "metadata": {
    "collapsed": false,
    "pycharm": {
     "name": "#%%\n"
    }
   }
  },
  {
   "cell_type": "code",
   "execution_count": 8,
   "outputs": [
    {
     "name": "stderr",
     "output_type": "stream",
     "text": [
      "100%|██████████| 157/157 [00:09<00:00, 16.22it/s]\n",
      "100%|██████████| 157/157 [00:04<00:00, 33.92it/s]\n",
      "100%|██████████| 157/157 [00:04<00:00, 34.56it/s]\n"
     ]
    },
    {
     "data": {
      "text/plain": "{'train_loss': [Array(0.15846236, dtype=float32),\n  Array(0.00169939, dtype=float32),\n  Array(0.00014436, dtype=float32)],\n 'train_accuracy': [Array(0.934234, dtype=float32),\n  Array(0.99981916, dtype=float32),\n  Array(1., dtype=float32)],\n 'test_loss': [Array(0.01187542, dtype=float32),\n  Array(0.00050877, dtype=float32),\n  Array(2.727856e-05, dtype=float32)],\n 'test_accuracy': [Array(0.9965805, dtype=float32),\n  Array(1., dtype=float32),\n  Array(1., dtype=float32)]}"
     },
     "execution_count": 8,
     "metadata": {},
     "output_type": "execute_result"
    }
   ],
   "source": [
    "trainer.run_trainer(3)"
   ],
   "metadata": {
    "collapsed": false,
    "pycharm": {
     "name": "#%%\n"
    }
   }
  },
  {
   "cell_type": "code",
   "execution_count": 9,
   "outputs": [
    {
     "name": "stdout",
     "output_type": "stream",
     "text": [
      "{'train_loss': [Array(0.15846236, dtype=float32), Array(0.00169939, dtype=float32), Array(0.00014436, dtype=float32)], 'train_accuracy': [Array(0.934234, dtype=float32), Array(0.99981916, dtype=float32), Array(1., dtype=float32)], 'test_loss': [Array(0.01187542, dtype=float32), Array(0.00050877, dtype=float32), Array(2.727856e-05, dtype=float32)], 'test_accuracy': [Array(0.9965805, dtype=float32), Array(1., dtype=float32), Array(1., dtype=float32)]}\n"
     ]
    }
   ],
   "source": [
    "print(trainer.metrics_history)"
   ],
   "metadata": {
    "collapsed": false,
    "pycharm": {
     "name": "#%%\n"
    }
   }
  },
  {
   "cell_type": "code",
   "execution_count": 17,
   "outputs": [
    {
     "data": {
      "text/plain": "<matplotlib.legend.Legend at 0x7f9cc5abac40>"
     },
     "execution_count": 17,
     "metadata": {},
     "output_type": "execute_result"
    },
    {
     "data": {
      "text/plain": "<Figure size 640x480 with 1 Axes>",
      "image/png": "[encoded data removed]"
     },
     "metadata": {},
     "output_type": "display_data"
    }
   ],
   "source": [
    "train_loss = trainer.metrics_history[\"train_loss\"]\n",
    "plt.plot(np.arange(0, len(train_loss), 1), train_loss, label=\"loss\")\n",
    "train_accuracy = trainer.metrics_history[\"train_accuracy\"]\n",
    "plt.plot(np.arange(0, len(train_accuracy), 1), train_accuracy, label=\"accuracy\")\n",
    "plt.legend()"
   ],
   "metadata": {
    "collapsed": false,
    "pycharm": {
     "name": "#%%\n"
    }
   }
  },
  {
   "cell_type": "code",
   "execution_count": 18,
   "outputs": [
    {
     "data": {
      "text/plain": "<matplotlib.legend.Legend at 0x7f9cc5ac1940>"
     },
     "execution_count": 18,
     "metadata": {},
     "output_type": "execute_result"
    },
    {
     "data": {
      "text/plain": "<Figure size 640x480 with 1 Axes>",
      "image/png": "[encoded data removed]"
     },
     "metadata": {},
     "output_type": "display_data"
    }
   ],
   "source": [
    "test_loss = trainer.metrics_history[\"test_loss\"]\n",
    "plt.plot(np.arange(0, len(test_loss), 1), test_loss, label=\"loss\")\n",
    "test_accuracy = trainer.metrics_history[\"test_accuracy\"]\n",
    "plt.plot(np.arange(0, len(test_accuracy), 1), test_accuracy, label=\"accuracy\")\n",
    "plt.legend()"
   ],
   "metadata": {
    "collapsed": false,
    "pycharm": {
     "name": "#%%\n"
    }
   }
  },
  {
   "cell_type": "code",
   "execution_count": 20,
   "outputs": [
    {
     "name": "stdout",
     "output_type": "stream",
     "text": [
      "tensor([[0, 0, 2, 2, 2, 1, 0, 0, 1, 2, 2]]) tensor([[-1, -1, -1, -1, -1,  0,  0,  1,  2,  2,  2]])\n",
      "[[[ 0.12080386  0.04499314 -0.1680934 ]\n",
      "  [ 0.05534431  0.01718597 -0.13706285]\n",
      "  [-0.00967472  0.12158204  0.0807227 ]\n",
      "  [-0.0505431   0.01018693  0.00364835]\n",
      "  [-0.01390173  0.04413539  0.03638929]\n",
      "  [-0.14226137  0.03327711  0.07552318]\n",
      "  [ 0.05597778  0.04033387  0.04765469]\n",
      "  [ 0.14061388  0.00896668 -0.04333903]\n",
      "  [-0.10313082 -0.10670202  0.01861088]\n",
      "  [ 0.01355137  0.02536171 -0.02603966]\n",
      "  [-0.01562809 -0.08709169  0.01153092]]]\n",
      "[[0 0 1 1 1 2 0 0 2 1 2]]\n",
      "[[-1 -1 -1 -1 -1  0  0  1  2  2  2]]\n",
      "[[-1 -1 -1 -1 -1  2  0  0  2  1  2]]\n"
     ]
    }
   ],
   "source": [
    "dataloader = DataLoader(SortDataset(\"test\"), batch_size=1)\n",
    "x, y = next(iter(dataloader))\n",
    "print(x, y)\n",
    "x, y = jnp.array(x), jnp.array(y)\n",
    "batch = (x, y)\n",
    "pred = trainer.train_state.apply_fn(state.params, x, training=False)\n",
    "print(pred)\n",
    "print(jnp.argmax(pred, axis=-1))\n",
    "print(y)\n",
    "\n",
    "zeros = jnp.zeros_like(y, dtype=int)\n",
    "\n",
    "predictions = jnp.argmax(pred, axis=-1)\n",
    "predictions_masked =  lax.select(y == -1, zeros-1, predictions)\n",
    "print(predictions_masked)\n"
   ],
   "metadata": {
    "collapsed": false,
    "pycharm": {
     "name": "#%%\n"
    }
   }
  }
 ],
 "metadata": {
  "kernelspec": {
   "display_name": "Python 3",
   "language": "python",
   "name": "python3"
  },
  "language_info": {
   "codemirror_mode": {
    "name": "ipython",
    "version": 2
   },
   "file_extension": ".py",
   "mimetype": "text/x-python",
   "name": "python",
   "nbconvert_exporter": "python",
   "pygments_lexer": "ipython2",
   "version": "2.7.6"
  }
 },
 "nbformat": 4,
 "nbformat_minor": 0
}